{
 "cells": [
  {
   "cell_type": "code",
   "execution_count": 137,
   "id": "6d398b78",
   "metadata": {},
   "outputs": [],
   "source": [
    "import numpy as np\n",
    "import pandas as pd\n",
    "from sklearn import preprocessing\n",
    "from sklearn.preprocessing import OneHotEncoder\n",
    "from sklearn.ensemble import RandomForestClassifier\n"
   ]
  },
  {
   "cell_type": "code",
   "execution_count": 138,
   "id": "06338800",
   "metadata": {},
   "outputs": [],
   "source": [
    "train_df=pd.read_csv('train.csv')\n",
    "test_df=pd.read_csv('test.csv')"
   ]
  },
  {
   "cell_type": "code",
   "execution_count": 139,
   "id": "4afa3108",
   "metadata": {},
   "outputs": [],
   "source": [
    "train_df=train_df.drop(['PassengerId','Name','Ticket','Cabin'],axis=1)\n",
    "test_df=test_df.drop(['Name','Ticket','Cabin'],axis=1)"
   ]
  },
  {
   "cell_type": "code",
   "execution_count": 140,
   "id": "5c73eae9",
   "metadata": {},
   "outputs": [],
   "source": [
    "label_encoder = preprocessing.LabelEncoder()\n",
    "train_df['Sex']= label_encoder.fit_transform(train_df['Sex'])\n",
    "test_df['Sex']= label_encoder.fit_transform(test_df['Sex'])"
   ]
  },
  {
   "cell_type": "code",
   "execution_count": 141,
   "id": "7231973f",
   "metadata": {},
   "outputs": [],
   "source": [
    "train_df['Embarked']=train_df['Embarked'].fillna(train_df['Embarked'].mode()[0])"
   ]
  },
  {
   "cell_type": "code",
   "execution_count": 142,
   "id": "f07712f4",
   "metadata": {},
   "outputs": [
    {
     "name": "stdout",
     "output_type": "stream",
     "text": [
      "Encoded Employee data : \n",
      "     Survived  Pclass  Sex   Age  SibSp  Parch     Fare  Embarked_C  \\\n",
      "0           0       3    1  22.0      1      0   7.2500         0.0   \n",
      "1           1       1    0  38.0      1      0  71.2833         1.0   \n",
      "2           1       3    0  26.0      0      0   7.9250         0.0   \n",
      "3           1       1    0  35.0      1      0  53.1000         0.0   \n",
      "4           0       3    1  35.0      0      0   8.0500         0.0   \n",
      "..        ...     ...  ...   ...    ...    ...      ...         ...   \n",
      "886         0       2    1  27.0      0      0  13.0000         0.0   \n",
      "887         1       1    0  19.0      0      0  30.0000         0.0   \n",
      "888         0       3    0   NaN      1      2  23.4500         0.0   \n",
      "889         1       1    1  26.0      0      0  30.0000         1.0   \n",
      "890         0       3    1  32.0      0      0   7.7500         0.0   \n",
      "\n",
      "     Embarked_Q  Embarked_S  \n",
      "0           0.0         1.0  \n",
      "1           0.0         0.0  \n",
      "2           0.0         1.0  \n",
      "3           0.0         1.0  \n",
      "4           0.0         1.0  \n",
      "..          ...         ...  \n",
      "886         0.0         1.0  \n",
      "887         0.0         1.0  \n",
      "888         0.0         1.0  \n",
      "889         0.0         0.0  \n",
      "890         1.0         0.0  \n",
      "\n",
      "[891 rows x 10 columns]\n"
     ]
    }
   ],
   "source": [
    "categorical_columns = train_df.select_dtypes(include=['object']).columns.tolist()\n",
    "encoder = OneHotEncoder(sparse_output=False)\n",
    "\n",
    "one_hot_encoded = encoder.fit_transform(train_df[categorical_columns])\n",
    "\n",
    "one_hot_df = pd.DataFrame(one_hot_encoded, columns=encoder.get_feature_names_out(categorical_columns))\n",
    "\n",
    "train_df = pd.concat([train_df, one_hot_df], axis=1)\n",
    "\n",
    "train_df = train_df.drop(categorical_columns, axis=1)\n",
    "print(f\"Encoded Employee data : \\n{train_df}\")"
   ]
  },
  {
   "cell_type": "code",
   "execution_count": 143,
   "id": "557da612",
   "metadata": {},
   "outputs": [
    {
     "name": "stdout",
     "output_type": "stream",
     "text": [
      "Encoded Employee data : \n",
      "     PassengerId  Pclass  Sex   Age  SibSp  Parch      Fare  Embarked_C  \\\n",
      "0            892       3    1  34.5      0      0    7.8292         0.0   \n",
      "1            893       3    0  47.0      1      0    7.0000         0.0   \n",
      "2            894       2    1  62.0      0      0    9.6875         0.0   \n",
      "3            895       3    1  27.0      0      0    8.6625         0.0   \n",
      "4            896       3    0  22.0      1      1   12.2875         0.0   \n",
      "..           ...     ...  ...   ...    ...    ...       ...         ...   \n",
      "413         1305       3    1   NaN      0      0    8.0500         0.0   \n",
      "414         1306       1    0  39.0      0      0  108.9000         1.0   \n",
      "415         1307       3    1  38.5      0      0    7.2500         0.0   \n",
      "416         1308       3    1   NaN      0      0    8.0500         0.0   \n",
      "417         1309       3    1   NaN      1      1   22.3583         1.0   \n",
      "\n",
      "     Embarked_Q  Embarked_S  \n",
      "0           1.0         0.0  \n",
      "1           0.0         1.0  \n",
      "2           1.0         0.0  \n",
      "3           0.0         1.0  \n",
      "4           0.0         1.0  \n",
      "..          ...         ...  \n",
      "413         0.0         1.0  \n",
      "414         0.0         0.0  \n",
      "415         0.0         1.0  \n",
      "416         0.0         1.0  \n",
      "417         0.0         0.0  \n",
      "\n",
      "[418 rows x 10 columns]\n"
     ]
    }
   ],
   "source": [
    "categorical_columns = test_df.select_dtypes(include=['object']).columns.tolist()\n",
    "encoder = OneHotEncoder(sparse_output=False)\n",
    "\n",
    "one_hot_encoded = encoder.fit_transform(test_df[categorical_columns])\n",
    "\n",
    "one_hot_df = pd.DataFrame(one_hot_encoded, columns=encoder.get_feature_names_out(categorical_columns))\n",
    "\n",
    "test_df = pd.concat([test_df, one_hot_df], axis=1)\n",
    "\n",
    "test_df = test_df.drop(categorical_columns, axis=1)\n",
    "print(f\"Encoded Employee data : \\n{test_df}\")"
   ]
  },
  {
   "cell_type": "code",
   "execution_count": 144,
   "id": "261b423b",
   "metadata": {},
   "outputs": [],
   "source": [
    "X_train=train_df.drop(['Survived'],axis=1)\n",
    "y_train=train_df[['Survived']]"
   ]
  },
  {
   "cell_type": "code",
   "execution_count": 145,
   "id": "7c3c7734",
   "metadata": {},
   "outputs": [
    {
     "name": "stderr",
     "output_type": "stream",
     "text": [
      "/Users/elliebarranbeck/ds-projects/Titanic/.venv/lib/python3.11/site-packages/sklearn/base.py:1389: DataConversionWarning: A column-vector y was passed when a 1d array was expected. Please change the shape of y to (n_samples,), for example using ravel().\n",
      "  return fit_method(estimator, *args, **kwargs)\n"
     ]
    }
   ],
   "source": [
    "classifier = RandomForestClassifier(n_estimators=100, random_state=42)\n",
    "classifier.fit(X_train, y_train)\n",
    "y_pred = classifier.predict(test_df.drop(['PassengerId'],axis=1))"
   ]
  },
  {
   "cell_type": "code",
   "execution_count": 146,
   "id": "e19ca092",
   "metadata": {},
   "outputs": [],
   "source": [
    "submission=pd.DataFrame({\n",
    "    'PassengerId': test_df.PassengerId,\n",
    "    'Survived': y_pred\n",
    "})\n",
    "submission.to_csv('submission.csv',index=False)"
   ]
  }
 ],
 "metadata": {
  "kernelspec": {
   "display_name": ".venv",
   "language": "python",
   "name": "python3"
  },
  "language_info": {
   "codemirror_mode": {
    "name": "ipython",
    "version": 3
   },
   "file_extension": ".py",
   "mimetype": "text/x-python",
   "name": "python",
   "nbconvert_exporter": "python",
   "pygments_lexer": "ipython3",
   "version": "3.11.5"
  }
 },
 "nbformat": 4,
 "nbformat_minor": 5
}
